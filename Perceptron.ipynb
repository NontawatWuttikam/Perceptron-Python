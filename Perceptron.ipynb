{
  "nbformat": 4,
  "nbformat_minor": 0,
  "metadata": {
    "colab": {
      "name": "Perceptron.ipynb",
      "provenance": [],
      "collapsed_sections": []
    },
    "kernelspec": {
      "name": "python3",
      "display_name": "Python 3"
    },
    "language_info": {
      "name": "python"
    }
  },
  "cells": [
    {
      "cell_type": "code",
      "metadata": {
        "id": "0_V3NR562Py7"
      },
      "source": [
        "class Perceptron():\n",
        "\n",
        "  def __init__(self, dim):\n",
        "    self.W = [1]*(dim+1)\n",
        "    self.activation = lambda x : x > 0 and 1 or 0\n",
        "\n",
        "  def predict(self,X):\n",
        "    result = []\n",
        "    X_ = X.copy()\n",
        "    if (len(self.W) != len(X_[0])):\n",
        "      for k,i in enumerate(X_):\n",
        "        X_[k].append(1)\n",
        "    for x in X_:\n",
        "      result.append(self.activation(sum([w*x for x,w in zip(x, self.W)])))\n",
        "    return result\n",
        "  \n",
        "  def train(self, X, Y, learning_rate = 0.002, epoch = 1):\n",
        "    X_ = [x[:] for x in X]\n",
        "    for k,i in enumerate(X_):\n",
        "      X_[k].append(1)\n",
        "    count = 0\n",
        "    for i in range(epoch):\n",
        "      W = self.W.copy()\n",
        "      for x,y in zip(X_, Y):\n",
        "        s = sum([w*k for k,w in zip(self.W, x)])\n",
        "        if self.activation(s) != y:\n",
        "          d = y == 0 and -1 or 1\n",
        "          for j in range(len(x)):\n",
        "            W[j] = W[j] + learning_rate*d*x[j]\n",
        "      self.W = W\n",
        "      count += 1\n",
        "      print(\"Epoch :\",count,'loss',sum([abs(i) for i in [a-b for a,b in zip(self.predict(X_),Y)]])/len(X[0]))"
      ],
      "execution_count": 266,
      "outputs": []
    },
    {
      "cell_type": "code",
      "metadata": {
        "id": "L5dygqRDDYpY"
      },
      "source": [
        "perceptron  = Perceptron(dim = 3)\n",
        "\n",
        "X = [[1,2,5],[2,3,4],[2,7,1],[3,4,2],[5,7,1],[1,5,5],[1,4,4],[2,7,2]]\n",
        "Y = [1,1,0,0,0,1,1,0]"
      ],
      "execution_count": 267,
      "outputs": []
    },
    {
      "cell_type": "code",
      "metadata": {
        "colab": {
          "base_uri": "https://localhost:8080/"
        },
        "id": "JTNC0LTuj8Gd",
        "outputId": "6580bd57-0967-4457-8365-282ad35e36d8"
      },
      "source": [
        "perceptron.train(X,Y,epoch = 25, learning_rate=0.01)"
      ],
      "execution_count": 268,
      "outputs": [
        {
          "output_type": "stream",
          "text": [
            "Epoch : 1 loss 1.3333333333333333\n",
            "Epoch : 2 loss 1.3333333333333333\n",
            "Epoch : 3 loss 1.3333333333333333\n",
            "Epoch : 4 loss 1.3333333333333333\n",
            "Epoch : 5 loss 1.3333333333333333\n",
            "Epoch : 6 loss 0.3333333333333333\n",
            "Epoch : 7 loss 0.3333333333333333\n",
            "Epoch : 8 loss 0.3333333333333333\n",
            "Epoch : 9 loss 0.0\n",
            "Epoch : 10 loss 0.0\n",
            "Epoch : 11 loss 0.0\n",
            "Epoch : 12 loss 0.0\n",
            "Epoch : 13 loss 0.0\n",
            "Epoch : 14 loss 0.0\n",
            "Epoch : 15 loss 0.0\n",
            "Epoch : 16 loss 0.0\n",
            "Epoch : 17 loss 0.0\n",
            "Epoch : 18 loss 0.0\n",
            "Epoch : 19 loss 0.0\n",
            "Epoch : 20 loss 0.0\n",
            "Epoch : 21 loss 0.0\n",
            "Epoch : 22 loss 0.0\n",
            "Epoch : 23 loss 0.0\n",
            "Epoch : 24 loss 0.0\n",
            "Epoch : 25 loss 0.0\n"
          ],
          "name": "stdout"
        }
      ]
    },
    {
      "cell_type": "code",
      "metadata": {
        "colab": {
          "base_uri": "https://localhost:8080/"
        },
        "id": "GDWzgiiMFEqB",
        "outputId": "04073349-dcf2-430d-9a04-b2a8895e6062"
      },
      "source": [
        "X = [[1,2,5],[2,3,4],[2,7,1],[3,4,2],[5,7,1],[1,5,5],[1,4,4],[2,7,2]]\n",
        "perceptron.predict(X)"
      ],
      "execution_count": 253,
      "outputs": [
        {
          "output_type": "execute_result",
          "data": {
            "text/plain": [
              "[1, 1, 0, 0, 0, 1, 1, 0]"
            ]
          },
          "metadata": {
            "tags": []
          },
          "execution_count": 253
        }
      ]
    },
    {
      "cell_type": "code",
      "metadata": {
        "colab": {
          "base_uri": "https://localhost:8080/"
        },
        "id": "YqfVyTzKeOBn",
        "outputId": "7ee1604f-30db-4b94-d994-6b7b488aae12"
      },
      "source": [
        "perceptron.W"
      ],
      "execution_count": 272,
      "outputs": [
        {
          "output_type": "execute_result",
          "data": {
            "text/plain": [
              "[0.18999999999999953,\n",
              " -0.6200000000000006,\n",
              " 0.5799999999999996,\n",
              " 0.7299999999999998]"
            ]
          },
          "metadata": {
            "tags": []
          },
          "execution_count": 272
        }
      ]
    }
  ]
}